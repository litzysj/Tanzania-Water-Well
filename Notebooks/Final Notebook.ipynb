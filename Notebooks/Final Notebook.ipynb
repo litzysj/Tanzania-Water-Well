{
 "cells": [
  {
   "cell_type": "markdown",
   "metadata": {},
   "source": [
    "# Tanzania Water Wells"
   ]
  },
  {
   "cell_type": "markdown",
   "metadata": {},
   "source": [
    "## Business Problem"
   ]
  },
  {
   "cell_type": "markdown",
   "metadata": {},
   "source": [
    "- Stakeholder: Tanzanian Ministry of Water \n",
    "\n",
    "- True business problem: Predict the functionality of wells by reducing false negatives and false positives, the main focus being on false negatives. \n",
    "\n",
    "- Deliverables: Inference or Prediction?\n",
    "    - Prediction\n",
    "- Context: \n",
    "    - False negative: Well functionality prediction says it is actully functional when it is not functional.\n",
    "        \n",
    "    - False positive: Well functionality prediction says it is not functional when it is functional.\n",
    "        \n",
    "    - We would prefer reducing **false positives** over false negatives"
   ]
  },
  {
   "cell_type": "markdown",
   "metadata": {},
   "source": [
    "## Evalutation Metric"
   ]
  },
  {
   "cell_type": "markdown",
   "metadata": {},
   "source": [
    "- Which metric would make sense to primarily use as we evaluate our models?\n",
    "    - Accuracy - balances the two kinds of errors (but is impractical with imbalanced targets)\n",
    "    - **Precision** - helps reduce false positives\n",
    "    - **Recall** - helps reduce false negatives\n",
    "    - F1-Score - balances recall & precision (and is beter than accuracy with imbalaced targets)\n",
    "    - ROC-AUC - helps focus on better probability outputs (makes sure our predicted probabilities are better)\n",
    "    \n",
    "We will primarily be focusing on recall "
   ]
  },
  {
   "cell_type": "markdown",
   "metadata": {},
   "source": [
    "## Data Understanding "
   ]
  },
  {
   "cell_type": "markdown",
   "metadata": {},
   "source": [
    "### Terminology"
   ]
  },
  {
   "cell_type": "markdown",
   "metadata": {},
   "source": [
    "**Define important variables and what they are**\n",
    "- Functional: \n",
    "- Not functional:\n",
    "- Needs repair:"
   ]
  },
  {
   "cell_type": "markdown",
   "metadata": {},
   "source": [
    "## Imports"
   ]
  },
  {
   "cell_type": "code",
   "execution_count": 1,
   "metadata": {},
   "outputs": [],
   "source": [
    "from datetime import date\n",
    "from time import strftime\n",
    "\n",
    "import numpy as np\n",
    "import pandas as pd\n",
    "import seaborn as sns\n",
    "import matplotlib.pyplot as plt\n",
    "\n",
    "from sklearn import ensemble\n",
    "from sklearn.ensemble import RandomForestClassifier\n",
    "from sklearn.tree import DecisionTreeClassifier\n",
    "from sklearn.model_selection import train_test_split, cross_val_predict\n",
    "from sklearn.preprocessing import LabelEncoder,  MinMaxScaler\n",
    "from sklearn.linear_model import LogisticRegression\n",
    "from sklearn.metrics import confusion_matrix, roc_auc_score, precision_recall_curve, recall_score,accuracy_score, confusion_matrix, classification_report\n"
   ]
  },
  {
   "cell_type": "code",
   "execution_count": 6,
   "metadata": {},
   "outputs": [
    {
     "data": {
      "text/html": [
       "<div>\n",
       "<style scoped>\n",
       "    .dataframe tbody tr th:only-of-type {\n",
       "        vertical-align: middle;\n",
       "    }\n",
       "\n",
       "    .dataframe tbody tr th {\n",
       "        vertical-align: top;\n",
       "    }\n",
       "\n",
       "    .dataframe thead th {\n",
       "        text-align: right;\n",
       "    }\n",
       "</style>\n",
       "<table border=\"1\" class=\"dataframe\">\n",
       "  <thead>\n",
       "    <tr style=\"text-align: right;\">\n",
       "      <th></th>\n",
       "      <th>id</th>\n",
       "      <th>amount_tsh</th>\n",
       "      <th>date_recorded</th>\n",
       "      <th>funder</th>\n",
       "      <th>gps_height</th>\n",
       "      <th>installer</th>\n",
       "      <th>longitude</th>\n",
       "      <th>latitude</th>\n",
       "      <th>wpt_name</th>\n",
       "      <th>num_private</th>\n",
       "      <th>...</th>\n",
       "      <th>payment_type</th>\n",
       "      <th>water_quality</th>\n",
       "      <th>quality_group</th>\n",
       "      <th>quantity</th>\n",
       "      <th>quantity_group</th>\n",
       "      <th>source</th>\n",
       "      <th>source_type</th>\n",
       "      <th>source_class</th>\n",
       "      <th>waterpoint_type</th>\n",
       "      <th>waterpoint_type_group</th>\n",
       "    </tr>\n",
       "  </thead>\n",
       "  <tbody>\n",
       "    <tr>\n",
       "      <th>0</th>\n",
       "      <td>69572</td>\n",
       "      <td>6000.0</td>\n",
       "      <td>2011-03-14</td>\n",
       "      <td>Roman</td>\n",
       "      <td>1390</td>\n",
       "      <td>Roman</td>\n",
       "      <td>34.938093</td>\n",
       "      <td>-9.856322</td>\n",
       "      <td>none</td>\n",
       "      <td>0</td>\n",
       "      <td>...</td>\n",
       "      <td>annually</td>\n",
       "      <td>soft</td>\n",
       "      <td>good</td>\n",
       "      <td>enough</td>\n",
       "      <td>enough</td>\n",
       "      <td>spring</td>\n",
       "      <td>spring</td>\n",
       "      <td>groundwater</td>\n",
       "      <td>communal standpipe</td>\n",
       "      <td>communal standpipe</td>\n",
       "    </tr>\n",
       "    <tr>\n",
       "      <th>1</th>\n",
       "      <td>8776</td>\n",
       "      <td>0.0</td>\n",
       "      <td>2013-03-06</td>\n",
       "      <td>Grumeti</td>\n",
       "      <td>1399</td>\n",
       "      <td>GRUMETI</td>\n",
       "      <td>34.698766</td>\n",
       "      <td>-2.147466</td>\n",
       "      <td>Zahanati</td>\n",
       "      <td>0</td>\n",
       "      <td>...</td>\n",
       "      <td>never pay</td>\n",
       "      <td>soft</td>\n",
       "      <td>good</td>\n",
       "      <td>insufficient</td>\n",
       "      <td>insufficient</td>\n",
       "      <td>rainwater harvesting</td>\n",
       "      <td>rainwater harvesting</td>\n",
       "      <td>surface</td>\n",
       "      <td>communal standpipe</td>\n",
       "      <td>communal standpipe</td>\n",
       "    </tr>\n",
       "    <tr>\n",
       "      <th>2</th>\n",
       "      <td>34310</td>\n",
       "      <td>25.0</td>\n",
       "      <td>2013-02-25</td>\n",
       "      <td>Lottery Club</td>\n",
       "      <td>686</td>\n",
       "      <td>World vision</td>\n",
       "      <td>37.460664</td>\n",
       "      <td>-3.821329</td>\n",
       "      <td>Kwa Mahundi</td>\n",
       "      <td>0</td>\n",
       "      <td>...</td>\n",
       "      <td>per bucket</td>\n",
       "      <td>soft</td>\n",
       "      <td>good</td>\n",
       "      <td>enough</td>\n",
       "      <td>enough</td>\n",
       "      <td>dam</td>\n",
       "      <td>dam</td>\n",
       "      <td>surface</td>\n",
       "      <td>communal standpipe multiple</td>\n",
       "      <td>communal standpipe</td>\n",
       "    </tr>\n",
       "    <tr>\n",
       "      <th>3</th>\n",
       "      <td>67743</td>\n",
       "      <td>0.0</td>\n",
       "      <td>2013-01-28</td>\n",
       "      <td>Unicef</td>\n",
       "      <td>263</td>\n",
       "      <td>UNICEF</td>\n",
       "      <td>38.486161</td>\n",
       "      <td>-11.155298</td>\n",
       "      <td>Zahanati Ya Nanyumbu</td>\n",
       "      <td>0</td>\n",
       "      <td>...</td>\n",
       "      <td>never pay</td>\n",
       "      <td>soft</td>\n",
       "      <td>good</td>\n",
       "      <td>dry</td>\n",
       "      <td>dry</td>\n",
       "      <td>machine dbh</td>\n",
       "      <td>borehole</td>\n",
       "      <td>groundwater</td>\n",
       "      <td>communal standpipe multiple</td>\n",
       "      <td>communal standpipe</td>\n",
       "    </tr>\n",
       "    <tr>\n",
       "      <th>4</th>\n",
       "      <td>19728</td>\n",
       "      <td>0.0</td>\n",
       "      <td>2011-07-13</td>\n",
       "      <td>Action In A</td>\n",
       "      <td>0</td>\n",
       "      <td>Artisan</td>\n",
       "      <td>31.130847</td>\n",
       "      <td>-1.825359</td>\n",
       "      <td>Shuleni</td>\n",
       "      <td>0</td>\n",
       "      <td>...</td>\n",
       "      <td>never pay</td>\n",
       "      <td>soft</td>\n",
       "      <td>good</td>\n",
       "      <td>seasonal</td>\n",
       "      <td>seasonal</td>\n",
       "      <td>rainwater harvesting</td>\n",
       "      <td>rainwater harvesting</td>\n",
       "      <td>surface</td>\n",
       "      <td>communal standpipe</td>\n",
       "      <td>communal standpipe</td>\n",
       "    </tr>\n",
       "    <tr>\n",
       "      <th>...</th>\n",
       "      <td>...</td>\n",
       "      <td>...</td>\n",
       "      <td>...</td>\n",
       "      <td>...</td>\n",
       "      <td>...</td>\n",
       "      <td>...</td>\n",
       "      <td>...</td>\n",
       "      <td>...</td>\n",
       "      <td>...</td>\n",
       "      <td>...</td>\n",
       "      <td>...</td>\n",
       "      <td>...</td>\n",
       "      <td>...</td>\n",
       "      <td>...</td>\n",
       "      <td>...</td>\n",
       "      <td>...</td>\n",
       "      <td>...</td>\n",
       "      <td>...</td>\n",
       "      <td>...</td>\n",
       "      <td>...</td>\n",
       "      <td>...</td>\n",
       "    </tr>\n",
       "    <tr>\n",
       "      <th>59395</th>\n",
       "      <td>60739</td>\n",
       "      <td>10.0</td>\n",
       "      <td>2013-05-03</td>\n",
       "      <td>Germany Republi</td>\n",
       "      <td>1210</td>\n",
       "      <td>CES</td>\n",
       "      <td>37.169807</td>\n",
       "      <td>-3.253847</td>\n",
       "      <td>Area Three Namba 27</td>\n",
       "      <td>0</td>\n",
       "      <td>...</td>\n",
       "      <td>per bucket</td>\n",
       "      <td>soft</td>\n",
       "      <td>good</td>\n",
       "      <td>enough</td>\n",
       "      <td>enough</td>\n",
       "      <td>spring</td>\n",
       "      <td>spring</td>\n",
       "      <td>groundwater</td>\n",
       "      <td>communal standpipe</td>\n",
       "      <td>communal standpipe</td>\n",
       "    </tr>\n",
       "    <tr>\n",
       "      <th>59396</th>\n",
       "      <td>27263</td>\n",
       "      <td>4700.0</td>\n",
       "      <td>2011-05-07</td>\n",
       "      <td>Cefa-njombe</td>\n",
       "      <td>1212</td>\n",
       "      <td>Cefa</td>\n",
       "      <td>35.249991</td>\n",
       "      <td>-9.070629</td>\n",
       "      <td>Kwa Yahona Kuvala</td>\n",
       "      <td>0</td>\n",
       "      <td>...</td>\n",
       "      <td>annually</td>\n",
       "      <td>soft</td>\n",
       "      <td>good</td>\n",
       "      <td>enough</td>\n",
       "      <td>enough</td>\n",
       "      <td>river</td>\n",
       "      <td>river/lake</td>\n",
       "      <td>surface</td>\n",
       "      <td>communal standpipe</td>\n",
       "      <td>communal standpipe</td>\n",
       "    </tr>\n",
       "    <tr>\n",
       "      <th>59397</th>\n",
       "      <td>37057</td>\n",
       "      <td>0.0</td>\n",
       "      <td>2011-04-11</td>\n",
       "      <td>NaN</td>\n",
       "      <td>0</td>\n",
       "      <td>NaN</td>\n",
       "      <td>34.017087</td>\n",
       "      <td>-8.750434</td>\n",
       "      <td>Mashine</td>\n",
       "      <td>0</td>\n",
       "      <td>...</td>\n",
       "      <td>monthly</td>\n",
       "      <td>fluoride</td>\n",
       "      <td>fluoride</td>\n",
       "      <td>enough</td>\n",
       "      <td>enough</td>\n",
       "      <td>machine dbh</td>\n",
       "      <td>borehole</td>\n",
       "      <td>groundwater</td>\n",
       "      <td>hand pump</td>\n",
       "      <td>hand pump</td>\n",
       "    </tr>\n",
       "    <tr>\n",
       "      <th>59398</th>\n",
       "      <td>31282</td>\n",
       "      <td>0.0</td>\n",
       "      <td>2011-03-08</td>\n",
       "      <td>Malec</td>\n",
       "      <td>0</td>\n",
       "      <td>Musa</td>\n",
       "      <td>35.861315</td>\n",
       "      <td>-6.378573</td>\n",
       "      <td>Mshoro</td>\n",
       "      <td>0</td>\n",
       "      <td>...</td>\n",
       "      <td>never pay</td>\n",
       "      <td>soft</td>\n",
       "      <td>good</td>\n",
       "      <td>insufficient</td>\n",
       "      <td>insufficient</td>\n",
       "      <td>shallow well</td>\n",
       "      <td>shallow well</td>\n",
       "      <td>groundwater</td>\n",
       "      <td>hand pump</td>\n",
       "      <td>hand pump</td>\n",
       "    </tr>\n",
       "    <tr>\n",
       "      <th>59399</th>\n",
       "      <td>26348</td>\n",
       "      <td>0.0</td>\n",
       "      <td>2011-03-23</td>\n",
       "      <td>World Bank</td>\n",
       "      <td>191</td>\n",
       "      <td>World</td>\n",
       "      <td>38.104048</td>\n",
       "      <td>-6.747464</td>\n",
       "      <td>Kwa Mzee Lugawa</td>\n",
       "      <td>0</td>\n",
       "      <td>...</td>\n",
       "      <td>on failure</td>\n",
       "      <td>salty</td>\n",
       "      <td>salty</td>\n",
       "      <td>enough</td>\n",
       "      <td>enough</td>\n",
       "      <td>shallow well</td>\n",
       "      <td>shallow well</td>\n",
       "      <td>groundwater</td>\n",
       "      <td>hand pump</td>\n",
       "      <td>hand pump</td>\n",
       "    </tr>\n",
       "  </tbody>\n",
       "</table>\n",
       "<p>59400 rows × 40 columns</p>\n",
       "</div>"
      ],
      "text/plain": [
       "          id  amount_tsh date_recorded           funder  gps_height  \\\n",
       "0      69572      6000.0    2011-03-14            Roman        1390   \n",
       "1       8776         0.0    2013-03-06          Grumeti        1399   \n",
       "2      34310        25.0    2013-02-25     Lottery Club         686   \n",
       "3      67743         0.0    2013-01-28           Unicef         263   \n",
       "4      19728         0.0    2011-07-13      Action In A           0   \n",
       "...      ...         ...           ...              ...         ...   \n",
       "59395  60739        10.0    2013-05-03  Germany Republi        1210   \n",
       "59396  27263      4700.0    2011-05-07      Cefa-njombe        1212   \n",
       "59397  37057         0.0    2011-04-11              NaN           0   \n",
       "59398  31282         0.0    2011-03-08            Malec           0   \n",
       "59399  26348         0.0    2011-03-23       World Bank         191   \n",
       "\n",
       "          installer  longitude   latitude              wpt_name  num_private  \\\n",
       "0             Roman  34.938093  -9.856322                  none            0   \n",
       "1           GRUMETI  34.698766  -2.147466              Zahanati            0   \n",
       "2      World vision  37.460664  -3.821329           Kwa Mahundi            0   \n",
       "3            UNICEF  38.486161 -11.155298  Zahanati Ya Nanyumbu            0   \n",
       "4           Artisan  31.130847  -1.825359               Shuleni            0   \n",
       "...             ...        ...        ...                   ...          ...   \n",
       "59395           CES  37.169807  -3.253847   Area Three Namba 27            0   \n",
       "59396          Cefa  35.249991  -9.070629     Kwa Yahona Kuvala            0   \n",
       "59397           NaN  34.017087  -8.750434               Mashine            0   \n",
       "59398          Musa  35.861315  -6.378573                Mshoro            0   \n",
       "59399         World  38.104048  -6.747464       Kwa Mzee Lugawa            0   \n",
       "\n",
       "       ... payment_type water_quality quality_group      quantity  \\\n",
       "0      ...     annually          soft          good        enough   \n",
       "1      ...    never pay          soft          good  insufficient   \n",
       "2      ...   per bucket          soft          good        enough   \n",
       "3      ...    never pay          soft          good           dry   \n",
       "4      ...    never pay          soft          good      seasonal   \n",
       "...    ...          ...           ...           ...           ...   \n",
       "59395  ...   per bucket          soft          good        enough   \n",
       "59396  ...     annually          soft          good        enough   \n",
       "59397  ...      monthly      fluoride      fluoride        enough   \n",
       "59398  ...    never pay          soft          good  insufficient   \n",
       "59399  ...   on failure         salty         salty        enough   \n",
       "\n",
       "       quantity_group                source           source_type  \\\n",
       "0              enough                spring                spring   \n",
       "1        insufficient  rainwater harvesting  rainwater harvesting   \n",
       "2              enough                   dam                   dam   \n",
       "3                 dry           machine dbh              borehole   \n",
       "4            seasonal  rainwater harvesting  rainwater harvesting   \n",
       "...               ...                   ...                   ...   \n",
       "59395          enough                spring                spring   \n",
       "59396          enough                 river            river/lake   \n",
       "59397          enough           machine dbh              borehole   \n",
       "59398    insufficient          shallow well          shallow well   \n",
       "59399          enough          shallow well          shallow well   \n",
       "\n",
       "       source_class              waterpoint_type waterpoint_type_group  \n",
       "0       groundwater           communal standpipe    communal standpipe  \n",
       "1           surface           communal standpipe    communal standpipe  \n",
       "2           surface  communal standpipe multiple    communal standpipe  \n",
       "3       groundwater  communal standpipe multiple    communal standpipe  \n",
       "4           surface           communal standpipe    communal standpipe  \n",
       "...             ...                          ...                   ...  \n",
       "59395   groundwater           communal standpipe    communal standpipe  \n",
       "59396       surface           communal standpipe    communal standpipe  \n",
       "59397   groundwater                    hand pump             hand pump  \n",
       "59398   groundwater                    hand pump             hand pump  \n",
       "59399   groundwater                    hand pump             hand pump  \n",
       "\n",
       "[59400 rows x 40 columns]"
      ]
     },
     "execution_count": 6,
     "metadata": {},
     "output_type": "execute_result"
    }
   ],
   "source": [
    "features = pd.read_csv('../data/tanzania_features.csv')\n",
    "features"
   ]
  },
  {
   "cell_type": "code",
   "execution_count": 5,
   "metadata": {},
   "outputs": [
    {
     "data": {
      "text/html": [
       "<div>\n",
       "<style scoped>\n",
       "    .dataframe tbody tr th:only-of-type {\n",
       "        vertical-align: middle;\n",
       "    }\n",
       "\n",
       "    .dataframe tbody tr th {\n",
       "        vertical-align: top;\n",
       "    }\n",
       "\n",
       "    .dataframe thead th {\n",
       "        text-align: right;\n",
       "    }\n",
       "</style>\n",
       "<table border=\"1\" class=\"dataframe\">\n",
       "  <thead>\n",
       "    <tr style=\"text-align: right;\">\n",
       "      <th></th>\n",
       "      <th>id</th>\n",
       "      <th>status_group</th>\n",
       "    </tr>\n",
       "  </thead>\n",
       "  <tbody>\n",
       "    <tr>\n",
       "      <th>0</th>\n",
       "      <td>69572</td>\n",
       "      <td>functional</td>\n",
       "    </tr>\n",
       "    <tr>\n",
       "      <th>1</th>\n",
       "      <td>8776</td>\n",
       "      <td>functional</td>\n",
       "    </tr>\n",
       "    <tr>\n",
       "      <th>2</th>\n",
       "      <td>34310</td>\n",
       "      <td>functional</td>\n",
       "    </tr>\n",
       "    <tr>\n",
       "      <th>3</th>\n",
       "      <td>67743</td>\n",
       "      <td>non functional</td>\n",
       "    </tr>\n",
       "    <tr>\n",
       "      <th>4</th>\n",
       "      <td>19728</td>\n",
       "      <td>functional</td>\n",
       "    </tr>\n",
       "    <tr>\n",
       "      <th>...</th>\n",
       "      <td>...</td>\n",
       "      <td>...</td>\n",
       "    </tr>\n",
       "    <tr>\n",
       "      <th>59395</th>\n",
       "      <td>60739</td>\n",
       "      <td>functional</td>\n",
       "    </tr>\n",
       "    <tr>\n",
       "      <th>59396</th>\n",
       "      <td>27263</td>\n",
       "      <td>functional</td>\n",
       "    </tr>\n",
       "    <tr>\n",
       "      <th>59397</th>\n",
       "      <td>37057</td>\n",
       "      <td>functional</td>\n",
       "    </tr>\n",
       "    <tr>\n",
       "      <th>59398</th>\n",
       "      <td>31282</td>\n",
       "      <td>functional</td>\n",
       "    </tr>\n",
       "    <tr>\n",
       "      <th>59399</th>\n",
       "      <td>26348</td>\n",
       "      <td>functional</td>\n",
       "    </tr>\n",
       "  </tbody>\n",
       "</table>\n",
       "<p>59400 rows × 2 columns</p>\n",
       "</div>"
      ],
      "text/plain": [
       "          id    status_group\n",
       "0      69572      functional\n",
       "1       8776      functional\n",
       "2      34310      functional\n",
       "3      67743  non functional\n",
       "4      19728      functional\n",
       "...      ...             ...\n",
       "59395  60739      functional\n",
       "59396  27263      functional\n",
       "59397  37057      functional\n",
       "59398  31282      functional\n",
       "59399  26348      functional\n",
       "\n",
       "[59400 rows x 2 columns]"
      ]
     },
     "execution_count": 5,
     "metadata": {},
     "output_type": "execute_result"
    }
   ],
   "source": [
    "target=pd.read_csv('../data/tanzania_target.csv')\n",
    "target"
   ]
  },
  {
   "cell_type": "code",
   "execution_count": 8,
   "metadata": {},
   "outputs": [],
   "source": [
    "new_df = features.merge(target, on='id')"
   ]
  },
  {
   "cell_type": "code",
   "execution_count": 9,
   "metadata": {},
   "outputs": [],
   "source": [
    "clean_df=new_df.drop(columns=['id', 'waterpoint_type', 'scheme_name', 'funder',\n",
    "        'num_private', 'permit', 'extraction_type', 'extraction_type_group',\n",
    "        'region_code','lga','ward', 'recorded_by', 'public_meeting',\n",
    "        'scheme_management', 'payment','water_quality', 'source_class','subvillage','quantity_group'\n",
    "                             ,'management', 'source_type'])"
   ]
  },
  {
   "cell_type": "code",
   "execution_count": 10,
   "metadata": {},
   "outputs": [],
   "source": [
    "clean_df = clean_df[clean_df['construction_year']!=0]"
   ]
  },
  {
   "cell_type": "code",
   "execution_count": 11,
   "metadata": {},
   "outputs": [],
   "source": [
    "clean_df = clean_df[clean_df['longitude']!=0]"
   ]
  },
  {
   "cell_type": "code",
   "execution_count": 12,
   "metadata": {},
   "outputs": [],
   "source": [
    "clean_df = clean_df[clean_df['latitude']!=-2.000000e-08]"
   ]
  },
  {
   "cell_type": "code",
   "execution_count": 13,
   "metadata": {},
   "outputs": [
    {
     "data": {
      "image/png": "[encoded data removed]",
      "text/plain": [
       "<Figure size 720x360 with 1 Axes>"
      ]
     },
     "metadata": {
      "needs_background": "light"
     },
     "output_type": "display_data"
    },
    {
     "data": {
      "image/png": "[encoded data removed]",
      "text/plain": [
       "<Figure size 720x360 with 1 Axes>"
      ]
     },
     "metadata": {
      "needs_background": "light"
     },
     "output_type": "display_data"
    }
   ],
   "source": [
    "mplines = new_df.groupby('extraction_type_class')['status_group'].value_counts(normalize=False).unstack().plot(kind='bar', figsize=(10,5))\n",
    "mplines.set_title(\"functionality\")\n",
    "plt.show()\n",
    "mplines_pct = new_df.groupby('extraction_type_class')['status_group'].value_counts(normalize=True).unstack().plot(kind='bar', figsize=(10,5))\n",
    "mplines_pct.set_title(\"percenage of functionality by extraction\")\n",
    "plt.show()"
   ]
  },
  {
   "cell_type": "code",
   "execution_count": 14,
   "metadata": {},
   "outputs": [
    {
     "data": {
      "image/png": "[encoded data removed]",
      "text/plain": [
       "<Figure size 720x360 with 1 Axes>"
      ]
     },
     "metadata": {
      "needs_background": "light"
     },
     "output_type": "display_data"
    },
    {
     "data": {
      "image/png": "[encoded data removed]",
      "text/plain": [
       "<Figure size 720x360 with 1 Axes>"
      ]
     },
     "metadata": {
      "needs_background": "light"
     },
     "output_type": "display_data"
    }
   ],
   "source": [
    "#functionality in region \n",
    "mplines = new_df.groupby('region')['status_group'].value_counts(normalize=False).unstack().plot(kind='bar', figsize=(10,5))\n",
    "mplines.set_title(\"functionality\")\n",
    "plt.show()\n",
    "mplines_pct = new_df.groupby('region')['status_group'].value_counts(normalize=True).unstack().plot(kind='bar', figsize=(10,5))\n",
    "mplines_pct.set_title(\"Percentage of functionality based on region\")\n",
    "plt.show()"
   ]
  },
  {
   "cell_type": "code",
   "execution_count": 15,
   "metadata": {},
   "outputs": [
    {
     "data": {
      "image/png": "[encoded data removed]",
      "text/plain": [
       "<Figure size 720x360 with 1 Axes>"
      ]
     },
     "metadata": {
      "needs_background": "light"
     },
     "output_type": "display_data"
    },
    {
     "data": {
      "image/png": "[encoded data removed]",
      "text/plain": [
       "<Figure size 720x360 with 1 Axes>"
      ]
     },
     "metadata": {
      "needs_background": "light"
     },
     "output_type": "display_data"
    }
   ],
   "source": [
    "#waterpoint_type_group functionality \n",
    "mplines = new_df.groupby('waterpoint_type_group')['status_group'].value_counts(normalize=False).unstack().plot(kind='bar', figsize=(10,5))\n",
    "mplines.set_title(\"functionality\")\n",
    "plt.show()\n",
    "mplines_pct = new_df.groupby('waterpoint_type_group')['status_group'].value_counts(normalize=True).unstack().plot(kind='bar', figsize=(10,5))\n",
    "mplines_pct.set_title(\"Percentage of functionality based on waterpoint_type\")\n",
    "plt.show()"
   ]
  },
  {
   "cell_type": "code",
   "execution_count": 16,
   "metadata": {},
   "outputs": [],
   "source": [
    "#combining non-functional and needs repair \n",
    "clean_df['status_group'] = clean_df[\"status_group\"].replace(\"functional needs repair\", \"non functional\")"
   ]
  },
  {
   "cell_type": "code",
   "execution_count": 17,
   "metadata": {},
   "outputs": [
    {
     "data": {
      "image/png": "[encoded data removed]",
      "text/plain": [
       "<Figure size 720x360 with 1 Axes>"
      ]
     },
     "metadata": {
      "needs_background": "light"
     },
     "output_type": "display_data"
    },
    {
     "data": {
      "image/png": "[encoded data removed]",
      "text/plain": [
       "<Figure size 720x360 with 1 Axes>"
      ]
     },
     "metadata": {
      "needs_background": "light"
     },
     "output_type": "display_data"
    }
   ],
   "source": [
    "# permit vs non-permit \n",
    "mplines = new_df.groupby('permit')['status_group'].value_counts(normalize=False).unstack().plot(kind='bar', figsize=(10,5))\n",
    "mplines.set_title(\"functionality\")\n",
    "plt.show()\n",
    "mplines_pct = new_df.groupby('permit')['status_group'].value_counts(normalize=True).unstack().plot(kind='bar', figsize=(10,5))\n",
    "mplines_pct.set_title(\"percenage of functionality by extraction\")\n",
    "plt.show()"
   ]
  },
  {
   "cell_type": "code",
   "execution_count": 18,
   "metadata": {},
   "outputs": [],
   "source": [
    "cat_df=clean_df[['status_group','region','extraction_type_class',\n",
    "                 'construction_year','source','quantity','longitude','latitude']]"
   ]
  },
  {
   "cell_type": "code",
   "execution_count": 19,
   "metadata": {},
   "outputs": [
    {
     "data": {
      "text/html": [
       "<div>\n",
       "<style scoped>\n",
       "    .dataframe tbody tr th:only-of-type {\n",
       "        vertical-align: middle;\n",
       "    }\n",
       "\n",
       "    .dataframe tbody tr th {\n",
       "        vertical-align: top;\n",
       "    }\n",
       "\n",
       "    .dataframe thead th {\n",
       "        text-align: right;\n",
       "    }\n",
       "</style>\n",
       "<table border=\"1\" class=\"dataframe\">\n",
       "  <thead>\n",
       "    <tr style=\"text-align: right;\">\n",
       "      <th></th>\n",
       "      <th>construction_year</th>\n",
       "      <th>longitude</th>\n",
       "      <th>latitude</th>\n",
       "      <th>status_group_functional</th>\n",
       "      <th>status_group_non functional</th>\n",
       "      <th>region_Arusha</th>\n",
       "      <th>region_Dar es Salaam</th>\n",
       "      <th>region_Iringa</th>\n",
       "      <th>region_Kigoma</th>\n",
       "      <th>region_Kilimanjaro</th>\n",
       "      <th>...</th>\n",
       "      <th>source_rainwater harvesting</th>\n",
       "      <th>source_river</th>\n",
       "      <th>source_shallow well</th>\n",
       "      <th>source_spring</th>\n",
       "      <th>source_unknown</th>\n",
       "      <th>quantity_dry</th>\n",
       "      <th>quantity_enough</th>\n",
       "      <th>quantity_insufficient</th>\n",
       "      <th>quantity_seasonal</th>\n",
       "      <th>quantity_unknown</th>\n",
       "    </tr>\n",
       "  </thead>\n",
       "  <tbody>\n",
       "    <tr>\n",
       "      <th>0</th>\n",
       "      <td>1999</td>\n",
       "      <td>34.938093</td>\n",
       "      <td>-9.856322</td>\n",
       "      <td>1</td>\n",
       "      <td>0</td>\n",
       "      <td>0</td>\n",
       "      <td>0</td>\n",
       "      <td>1</td>\n",
       "      <td>0</td>\n",
       "      <td>0</td>\n",
       "      <td>...</td>\n",
       "      <td>0</td>\n",
       "      <td>0</td>\n",
       "      <td>0</td>\n",
       "      <td>1</td>\n",
       "      <td>0</td>\n",
       "      <td>0</td>\n",
       "      <td>1</td>\n",
       "      <td>0</td>\n",
       "      <td>0</td>\n",
       "      <td>0</td>\n",
       "    </tr>\n",
       "    <tr>\n",
       "      <th>1</th>\n",
       "      <td>2010</td>\n",
       "      <td>34.698766</td>\n",
       "      <td>-2.147466</td>\n",
       "      <td>1</td>\n",
       "      <td>0</td>\n",
       "      <td>0</td>\n",
       "      <td>0</td>\n",
       "      <td>0</td>\n",
       "      <td>0</td>\n",
       "      <td>0</td>\n",
       "      <td>...</td>\n",
       "      <td>1</td>\n",
       "      <td>0</td>\n",
       "      <td>0</td>\n",
       "      <td>0</td>\n",
       "      <td>0</td>\n",
       "      <td>0</td>\n",
       "      <td>0</td>\n",
       "      <td>1</td>\n",
       "      <td>0</td>\n",
       "      <td>0</td>\n",
       "    </tr>\n",
       "    <tr>\n",
       "      <th>2</th>\n",
       "      <td>2009</td>\n",
       "      <td>37.460664</td>\n",
       "      <td>-3.821329</td>\n",
       "      <td>1</td>\n",
       "      <td>0</td>\n",
       "      <td>0</td>\n",
       "      <td>0</td>\n",
       "      <td>0</td>\n",
       "      <td>0</td>\n",
       "      <td>0</td>\n",
       "      <td>...</td>\n",
       "      <td>0</td>\n",
       "      <td>0</td>\n",
       "      <td>0</td>\n",
       "      <td>0</td>\n",
       "      <td>0</td>\n",
       "      <td>0</td>\n",
       "      <td>1</td>\n",
       "      <td>0</td>\n",
       "      <td>0</td>\n",
       "      <td>0</td>\n",
       "    </tr>\n",
       "    <tr>\n",
       "      <th>3</th>\n",
       "      <td>1986</td>\n",
       "      <td>38.486161</td>\n",
       "      <td>-11.155298</td>\n",
       "      <td>0</td>\n",
       "      <td>1</td>\n",
       "      <td>0</td>\n",
       "      <td>0</td>\n",
       "      <td>0</td>\n",
       "      <td>0</td>\n",
       "      <td>0</td>\n",
       "      <td>...</td>\n",
       "      <td>0</td>\n",
       "      <td>0</td>\n",
       "      <td>0</td>\n",
       "      <td>0</td>\n",
       "      <td>0</td>\n",
       "      <td>1</td>\n",
       "      <td>0</td>\n",
       "      <td>0</td>\n",
       "      <td>0</td>\n",
       "      <td>0</td>\n",
       "    </tr>\n",
       "    <tr>\n",
       "      <th>5</th>\n",
       "      <td>2009</td>\n",
       "      <td>39.172796</td>\n",
       "      <td>-4.765587</td>\n",
       "      <td>1</td>\n",
       "      <td>0</td>\n",
       "      <td>0</td>\n",
       "      <td>0</td>\n",
       "      <td>0</td>\n",
       "      <td>0</td>\n",
       "      <td>0</td>\n",
       "      <td>...</td>\n",
       "      <td>0</td>\n",
       "      <td>0</td>\n",
       "      <td>0</td>\n",
       "      <td>0</td>\n",
       "      <td>0</td>\n",
       "      <td>0</td>\n",
       "      <td>1</td>\n",
       "      <td>0</td>\n",
       "      <td>0</td>\n",
       "      <td>0</td>\n",
       "    </tr>\n",
       "    <tr>\n",
       "      <th>...</th>\n",
       "      <td>...</td>\n",
       "      <td>...</td>\n",
       "      <td>...</td>\n",
       "      <td>...</td>\n",
       "      <td>...</td>\n",
       "      <td>...</td>\n",
       "      <td>...</td>\n",
       "      <td>...</td>\n",
       "      <td>...</td>\n",
       "      <td>...</td>\n",
       "      <td>...</td>\n",
       "      <td>...</td>\n",
       "      <td>...</td>\n",
       "      <td>...</td>\n",
       "      <td>...</td>\n",
       "      <td>...</td>\n",
       "      <td>...</td>\n",
       "      <td>...</td>\n",
       "      <td>...</td>\n",
       "      <td>...</td>\n",
       "      <td>...</td>\n",
       "    </tr>\n",
       "    <tr>\n",
       "      <th>59391</th>\n",
       "      <td>1967</td>\n",
       "      <td>38.044070</td>\n",
       "      <td>-4.272218</td>\n",
       "      <td>0</td>\n",
       "      <td>1</td>\n",
       "      <td>0</td>\n",
       "      <td>0</td>\n",
       "      <td>0</td>\n",
       "      <td>0</td>\n",
       "      <td>1</td>\n",
       "      <td>...</td>\n",
       "      <td>0</td>\n",
       "      <td>1</td>\n",
       "      <td>0</td>\n",
       "      <td>0</td>\n",
       "      <td>0</td>\n",
       "      <td>0</td>\n",
       "      <td>1</td>\n",
       "      <td>0</td>\n",
       "      <td>0</td>\n",
       "      <td>0</td>\n",
       "    </tr>\n",
       "    <tr>\n",
       "      <th>59394</th>\n",
       "      <td>2007</td>\n",
       "      <td>37.634053</td>\n",
       "      <td>-6.124830</td>\n",
       "      <td>0</td>\n",
       "      <td>1</td>\n",
       "      <td>0</td>\n",
       "      <td>0</td>\n",
       "      <td>0</td>\n",
       "      <td>0</td>\n",
       "      <td>0</td>\n",
       "      <td>...</td>\n",
       "      <td>0</td>\n",
       "      <td>0</td>\n",
       "      <td>0</td>\n",
       "      <td>0</td>\n",
       "      <td>0</td>\n",
       "      <td>0</td>\n",
       "      <td>1</td>\n",
       "      <td>0</td>\n",
       "      <td>0</td>\n",
       "      <td>0</td>\n",
       "    </tr>\n",
       "    <tr>\n",
       "      <th>59395</th>\n",
       "      <td>1999</td>\n",
       "      <td>37.169807</td>\n",
       "      <td>-3.253847</td>\n",
       "      <td>1</td>\n",
       "      <td>0</td>\n",
       "      <td>0</td>\n",
       "      <td>0</td>\n",
       "      <td>0</td>\n",
       "      <td>0</td>\n",
       "      <td>1</td>\n",
       "      <td>...</td>\n",
       "      <td>0</td>\n",
       "      <td>0</td>\n",
       "      <td>0</td>\n",
       "      <td>1</td>\n",
       "      <td>0</td>\n",
       "      <td>0</td>\n",
       "      <td>1</td>\n",
       "      <td>0</td>\n",
       "      <td>0</td>\n",
       "      <td>0</td>\n",
       "    </tr>\n",
       "    <tr>\n",
       "      <th>59396</th>\n",
       "      <td>1996</td>\n",
       "      <td>35.249991</td>\n",
       "      <td>-9.070629</td>\n",
       "      <td>1</td>\n",
       "      <td>0</td>\n",
       "      <td>0</td>\n",
       "      <td>0</td>\n",
       "      <td>1</td>\n",
       "      <td>0</td>\n",
       "      <td>0</td>\n",
       "      <td>...</td>\n",
       "      <td>0</td>\n",
       "      <td>1</td>\n",
       "      <td>0</td>\n",
       "      <td>0</td>\n",
       "      <td>0</td>\n",
       "      <td>0</td>\n",
       "      <td>1</td>\n",
       "      <td>0</td>\n",
       "      <td>0</td>\n",
       "      <td>0</td>\n",
       "    </tr>\n",
       "    <tr>\n",
       "      <th>59399</th>\n",
       "      <td>2002</td>\n",
       "      <td>38.104048</td>\n",
       "      <td>-6.747464</td>\n",
       "      <td>1</td>\n",
       "      <td>0</td>\n",
       "      <td>0</td>\n",
       "      <td>0</td>\n",
       "      <td>0</td>\n",
       "      <td>0</td>\n",
       "      <td>0</td>\n",
       "      <td>...</td>\n",
       "      <td>0</td>\n",
       "      <td>0</td>\n",
       "      <td>1</td>\n",
       "      <td>0</td>\n",
       "      <td>0</td>\n",
       "      <td>0</td>\n",
       "      <td>1</td>\n",
       "      <td>0</td>\n",
       "      <td>0</td>\n",
       "      <td>0</td>\n",
       "    </tr>\n",
       "  </tbody>\n",
       "</table>\n",
       "<p>38691 rows × 44 columns</p>\n",
       "</div>"
      ],
      "text/plain": [
       "       construction_year  longitude   latitude  status_group_functional  \\\n",
       "0                   1999  34.938093  -9.856322                        1   \n",
       "1                   2010  34.698766  -2.147466                        1   \n",
       "2                   2009  37.460664  -3.821329                        1   \n",
       "3                   1986  38.486161 -11.155298                        0   \n",
       "5                   2009  39.172796  -4.765587                        1   \n",
       "...                  ...        ...        ...                      ...   \n",
       "59391               1967  38.044070  -4.272218                        0   \n",
       "59394               2007  37.634053  -6.124830                        0   \n",
       "59395               1999  37.169807  -3.253847                        1   \n",
       "59396               1996  35.249991  -9.070629                        1   \n",
       "59399               2002  38.104048  -6.747464                        1   \n",
       "\n",
       "       status_group_non functional  region_Arusha  region_Dar es Salaam  \\\n",
       "0                                0              0                     0   \n",
       "1                                0              0                     0   \n",
       "2                                0              0                     0   \n",
       "3                                1              0                     0   \n",
       "5                                0              0                     0   \n",
       "...                            ...            ...                   ...   \n",
       "59391                            1              0                     0   \n",
       "59394                            1              0                     0   \n",
       "59395                            0              0                     0   \n",
       "59396                            0              0                     0   \n",
       "59399                            0              0                     0   \n",
       "\n",
       "       region_Iringa  region_Kigoma  region_Kilimanjaro  ...  \\\n",
       "0                  1              0                   0  ...   \n",
       "1                  0              0                   0  ...   \n",
       "2                  0              0                   0  ...   \n",
       "3                  0              0                   0  ...   \n",
       "5                  0              0                   0  ...   \n",
       "...              ...            ...                 ...  ...   \n",
       "59391              0              0                   1  ...   \n",
       "59394              0              0                   0  ...   \n",
       "59395              0              0                   1  ...   \n",
       "59396              1              0                   0  ...   \n",
       "59399              0              0                   0  ...   \n",
       "\n",
       "       source_rainwater harvesting  source_river  source_shallow well  \\\n",
       "0                                0             0                    0   \n",
       "1                                1             0                    0   \n",
       "2                                0             0                    0   \n",
       "3                                0             0                    0   \n",
       "5                                0             0                    0   \n",
       "...                            ...           ...                  ...   \n",
       "59391                            0             1                    0   \n",
       "59394                            0             0                    0   \n",
       "59395                            0             0                    0   \n",
       "59396                            0             1                    0   \n",
       "59399                            0             0                    1   \n",
       "\n",
       "       source_spring  source_unknown  quantity_dry  quantity_enough  \\\n",
       "0                  1               0             0                1   \n",
       "1                  0               0             0                0   \n",
       "2                  0               0             0                1   \n",
       "3                  0               0             1                0   \n",
       "5                  0               0             0                1   \n",
       "...              ...             ...           ...              ...   \n",
       "59391              0               0             0                1   \n",
       "59394              0               0             0                1   \n",
       "59395              1               0             0                1   \n",
       "59396              0               0             0                1   \n",
       "59399              0               0             0                1   \n",
       "\n",
       "       quantity_insufficient  quantity_seasonal  quantity_unknown  \n",
       "0                          0                  0                 0  \n",
       "1                          1                  0                 0  \n",
       "2                          0                  0                 0  \n",
       "3                          0                  0                 0  \n",
       "5                          0                  0                 0  \n",
       "...                      ...                ...               ...  \n",
       "59391                      0                  0                 0  \n",
       "59394                      0                  0                 0  \n",
       "59395                      0                  0                 0  \n",
       "59396                      0                  0                 0  \n",
       "59399                      0                  0                 0  \n",
       "\n",
       "[38691 rows x 44 columns]"
      ]
     },
     "execution_count": 19,
     "metadata": {},
     "output_type": "execute_result"
    }
   ],
   "source": [
    "model_df = pd.get_dummies(cat_df)\n",
    "model_df"
   ]
  },
  {
   "cell_type": "code",
   "execution_count": 20,
   "metadata": {},
   "outputs": [],
   "source": [
    "y= model_df['status_group_non functional']\n",
    "X= model_df.drop(columns=['status_group_non functional', 'status_group_functional'])"
   ]
  },
  {
   "cell_type": "code",
   "execution_count": 21,
   "metadata": {},
   "outputs": [],
   "source": [
    "X_tr, X_test, y_tr, y_test = train_test_split(X, y, test_size=.15, random_state=2022, stratify=y)\n"
   ]
  },
  {
   "cell_type": "code",
   "execution_count": 22,
   "metadata": {},
   "outputs": [],
   "source": [
    "X_train, X_val, y_train, y_val = train_test_split(X_tr, y_tr, test_size=.15, random_state=2022, stratify=y_tr)\n"
   ]
  },
  {
   "cell_type": "code",
   "execution_count": 23,
   "metadata": {},
   "outputs": [],
   "source": [
    "def modeling_function(model, X_train, y_train, X_val, y_val):\n",
    "\n",
    "    # fit model on training data\n",
    "    model.fit(X_train, y_train)\n",
    "\n",
    "    # make predictions on training and validation data\n",
    "    train_preds = model.predict(X_train)\n",
    "    val_preds = model.predict(X_val)\n",
    "\n",
    "    # Print accuracy score\n",
    "    print('Training accuracy: ', accuracy_score(y_train, train_preds))\n",
    "    print('Validation accuracy: ', accuracy_score(y_val, val_preds))\n",
    "\n",
    "    # return fitted model\n",
    "    return model"
   ]
  },
  {
   "cell_type": "code",
   "execution_count": 24,
   "metadata": {},
   "outputs": [],
   "source": [
    "from sklearn.inspection import permutation_importance\n",
    "logreg = LogisticRegression()\n"
   ]
  },
  {
   "cell_type": "code",
   "execution_count": 25,
   "metadata": {},
   "outputs": [
    {
     "name": "stdout",
     "output_type": "stream",
     "text": [
      "Training accuracy:  0.7059349622580761\n",
      "Validation accuracy:  0.7117957032833401\n"
     ]
    },
    {
     "name": "stderr",
     "output_type": "stream",
     "text": [
      "/Users/litzysalazar/opt/anaconda3/envs/learn-env/lib/python3.8/site-packages/sklearn/linear_model/_logistic.py:762: ConvergenceWarning: lbfgs failed to converge (status=1):\n",
      "STOP: TOTAL NO. of ITERATIONS REACHED LIMIT.\n",
      "\n",
      "Increase the number of iterations (max_iter) or scale the data as shown in:\n",
      "    https://scikit-learn.org/stable/modules/preprocessing.html\n",
      "Please also refer to the documentation for alternative solver options:\n",
      "    https://scikit-learn.org/stable/modules/linear_model.html#logistic-regression\n",
      "  n_iter_i = _check_optimize_result(\n"
     ]
    }
   ],
   "source": [
    "logreg = modeling_function(logreg, X_train, y_train, X_val, y_val)\n"
   ]
  },
  {
   "cell_type": "code",
   "execution_count": 26,
   "metadata": {},
   "outputs": [
    {
     "data": {
      "text/plain": [
       "{'importances_mean': array([-6.89179876e-05,  1.44727774e-03,  1.32667126e-03,  4.39352171e-03,\n",
       "         8.61474845e-05,  4.99655410e-04,  3.01516196e-03,  3.44589938e-05,\n",
       "         8.44245348e-04,  7.58097864e-04,  5.84079945e-03,  1.89524466e-04,\n",
       "         1.17160579e-03,  1.72294969e-04,  1.72294969e-05,  8.95933839e-04,\n",
       "         1.89524466e-03, -3.44589938e-05,  2.70503101e-03,  1.55065472e-04,\n",
       "         6.71950379e-04,  2.92729152e-02,  2.51550655e-03,  1.85217092e-02,\n",
       "         9.82081323e-04,  4.56581668e-03,  0.00000000e+00,  0.00000000e+00,\n",
       "         3.44589938e-05,  6.78842178e-03,  1.60234321e-03,  3.44589938e-05,\n",
       "         1.11991730e-03,  7.06409373e-04, -1.10268780e-03, -1.25775327e-03,\n",
       "         0.00000000e+00,  4.18504480e-02,  5.28084080e-02,  1.69365955e-02,\n",
       "         5.92694693e-03, -7.40868367e-04]),\n",
       " 'importances_std': array([8.44069519e-05, 1.34169003e-03, 7.06409373e-04, 9.47622329e-04,\n",
       "        1.92631631e-04, 1.73402711e-03, 1.49261549e-03, 9.58678687e-04,\n",
       "        1.04930324e-03, 4.23439205e-04, 1.52059462e-03, 5.07904996e-04,\n",
       "        9.23989502e-04, 1.54105305e-04, 4.38929676e-04, 8.50376477e-04,\n",
       "        5.86815519e-04, 6.89179876e-05, 4.15298787e-04, 1.62542749e-04,\n",
       "        2.55374624e-03, 3.43938909e-03, 7.86541159e-04, 2.81664072e-03,\n",
       "        1.89524466e-04, 1.22135139e-03, 0.00000000e+00, 0.00000000e+00,\n",
       "        1.85567361e-04, 2.69133345e-04, 1.15591820e-03, 6.89179876e-05,\n",
       "        4.88844278e-04, 8.73282281e-04, 1.15630336e-03, 2.50634407e-03,\n",
       "        0.00000000e+00, 2.52921738e-03, 3.44180494e-03, 2.81959019e-03,\n",
       "        6.31643790e-04, 4.22386308e-04]),\n",
       " 'importances': array([[ 0.        , -0.00017229,  0.        , -0.00017229,  0.        ,\n",
       "          0.        ,  0.        , -0.00017229, -0.00017229,  0.        ],\n",
       "        [ 0.00120606,  0.00068918,  0.00275672,  0.00258442,  0.00155065,\n",
       "          0.00017229,  0.00189524, -0.00086147,  0.00396278,  0.00051688],\n",
       "        [ 0.00103377,  0.00155065,  0.00258442,  0.00172295,  0.00155065,\n",
       "          0.00034459,  0.        ,  0.00189524,  0.00137836,  0.00120606],\n",
       "        [ 0.00396278,  0.00482426,  0.00396278,  0.00516885,  0.00516885,\n",
       "          0.00499655,  0.00482426,  0.00413508,  0.00499655,  0.00189524],\n",
       "        [ 0.00017229,  0.        ,  0.        , -0.00017229,  0.00034459,\n",
       "          0.        ,  0.        ,  0.        ,  0.        ,  0.00051688],\n",
       "        [ 0.00258442, -0.00275672, -0.00034459, -0.00051688, -0.00120606,\n",
       "          0.00103377,  0.00206754,  0.00292901,  0.00155065, -0.00034459],\n",
       "        [ 0.00396278,  0.00086147,  0.00413508,  0.00103377,  0.00068918,\n",
       "          0.00499655,  0.0034459 ,  0.00361819,  0.00310131,  0.00430737],\n",
       "        [-0.00155065,  0.00120606,  0.00103377, -0.00051688, -0.00068918,\n",
       "          0.00137836,  0.00086147, -0.00086147, -0.00034459, -0.00017229],\n",
       "        [ 0.00189524,  0.        , -0.00051688,  0.00017229,  0.00189524,\n",
       "         -0.00051688,  0.        ,  0.00155065,  0.00172295,  0.00223983],\n",
       "        [ 0.00068918,  0.00172295,  0.00068918,  0.00068918,  0.00051688,\n",
       "          0.        ,  0.00068918,  0.00103377,  0.00103377,  0.00051688],\n",
       "        [ 0.00516885,  0.00758098,  0.00654721,  0.00465196,  0.00620262,\n",
       "          0.00275672,  0.00465196,  0.0067195 ,  0.00585803,  0.00827016],\n",
       "        [-0.00017229,  0.00068918,  0.00120606,  0.        ,  0.00051688,\n",
       "          0.00051688, -0.00017229,  0.00017229, -0.00034459, -0.00051688],\n",
       "        [ 0.00137836,  0.        ,  0.00241213,  0.00103377,  0.00172295,\n",
       "         -0.00034459,  0.00068918,  0.00258442,  0.00172295,  0.00051688],\n",
       "        [ 0.00034459,  0.00017229,  0.00034459,  0.00034459,  0.        ,\n",
       "          0.00017229, -0.00017229,  0.00017229,  0.00017229,  0.00017229],\n",
       "        [-0.00034459,  0.00034459,  0.00051688, -0.00068918,  0.00017229,\n",
       "         -0.00034459, -0.00017229,  0.00086147, -0.00017229,  0.        ],\n",
       "        [ 0.00258442,  0.00086147,  0.00034459,  0.00172295,  0.00086147,\n",
       "          0.00172295, -0.00051688,  0.00017229,  0.00051688,  0.00068918],\n",
       "        [ 0.00086147,  0.00137836,  0.00155065,  0.00155065,  0.00223983,\n",
       "          0.00241213,  0.00241213,  0.00206754,  0.00292901,  0.00155065],\n",
       "        [ 0.        ,  0.        ,  0.        ,  0.        ,  0.        ,\n",
       "          0.        , -0.00017229, -0.00017229,  0.        ,  0.        ],\n",
       "        [ 0.00241213,  0.00292901,  0.0032736 ,  0.00241213,  0.00361819,\n",
       "          0.00275672,  0.00241213,  0.00241213,  0.00241213,  0.00241213],\n",
       "        [ 0.        ,  0.00034459, -0.00017229,  0.00034459,  0.        ,\n",
       "          0.00017229,  0.00017229,  0.00017229,  0.00034459,  0.00017229],\n",
       "        [-0.00017229, -0.00258442,  0.00275672,  0.0032736 , -0.00155065,\n",
       "         -0.00137836,  0.00241213,  0.00361819, -0.00310131,  0.0034459 ],\n",
       "        [ 0.0306685 ,  0.0306685 ,  0.03101309,  0.02274294,  0.03170227,\n",
       "          0.03618194,  0.02653343,  0.02722261,  0.02825637,  0.02773949],\n",
       "        [ 0.00241213,  0.00292901,  0.00292901,  0.0034459 ,  0.00310131,\n",
       "          0.0034459 ,  0.00155065,  0.00172295,  0.00103377,  0.00258442],\n",
       "        [ 0.01498966,  0.01878015,  0.01912474,  0.02308753,  0.01498966,\n",
       "          0.02343212,  0.01567884,  0.01912474,  0.01809097,  0.01791868],\n",
       "        [ 0.00120606,  0.00103377,  0.00120606,  0.00120606,  0.00086147,\n",
       "          0.00086147,  0.00103377,  0.00068918,  0.00103377,  0.00068918],\n",
       "        [ 0.0032736 ,  0.00361819,  0.00379049,  0.00465196,  0.00620262,\n",
       "          0.00379049,  0.00499655,  0.00292901,  0.00585803,  0.00654721],\n",
       "        [ 0.        ,  0.        ,  0.        ,  0.        ,  0.        ,\n",
       "          0.        ,  0.        ,  0.        ,  0.        ,  0.        ],\n",
       "        [ 0.        ,  0.        ,  0.        ,  0.        ,  0.        ,\n",
       "          0.        ,  0.        ,  0.        ,  0.        ,  0.        ],\n",
       "        [ 0.        ,  0.        , -0.00017229,  0.00017229,  0.        ,\n",
       "          0.00051688,  0.        ,  0.        ,  0.        , -0.00017229],\n",
       "        [ 0.00706409,  0.00740868,  0.00654721,  0.0067195 ,  0.00654721,\n",
       "          0.00654721,  0.0068918 ,  0.00654721,  0.0067195 ,  0.0068918 ],\n",
       "        [ 0.00137836,  0.00086147,  0.00068918,  0.00223983,  0.00275672,\n",
       "          0.00034459,  0.00275672,  0.00189524, -0.00034459,  0.0034459 ],\n",
       "        [ 0.00017229,  0.        ,  0.        ,  0.        ,  0.        ,\n",
       "          0.        ,  0.00017229,  0.        ,  0.        ,  0.        ],\n",
       "        [ 0.00051688,  0.00068918,  0.00120606,  0.00172295,  0.00017229,\n",
       "          0.00103377,  0.00172295,  0.00137836,  0.00137836,  0.00137836],\n",
       "        [ 0.00172295,  0.00103377, -0.00034459,  0.00155065, -0.00120606,\n",
       "          0.00103377,  0.00155065,  0.00034459,  0.00086147,  0.00051688],\n",
       "        [-0.00172295, -0.00396278, -0.00068918, -0.00034459, -0.00034459,\n",
       "         -0.00034459, -0.00223983,  0.        , -0.00086147, -0.00051688],\n",
       "        [-0.00241213, -0.00482426,  0.        ,  0.00292901, -0.00292901,\n",
       "          0.00120606, -0.0032736 ,  0.00223983, -0.00275672, -0.00275672],\n",
       "        [ 0.        ,  0.        ,  0.        ,  0.        ,  0.        ,\n",
       "          0.        ,  0.        ,  0.        ,  0.        ,  0.        ],\n",
       "        [ 0.04186768,  0.03928325,  0.04393522,  0.04496899,  0.03893866,\n",
       "          0.0444521 ,  0.03980014,  0.04565817,  0.03911096,  0.04048932],\n",
       "        [ 0.05875258,  0.04686423,  0.05668504,  0.05565127,  0.05099931,\n",
       "          0.04979325,  0.05375603,  0.05306685,  0.05306685,  0.04944866],\n",
       "        [ 0.01567884,  0.01929704,  0.01860786,  0.02170917,  0.01240524,\n",
       "          0.01998622,  0.01326671,  0.01688491,  0.01516196,  0.01636802],\n",
       "        [ 0.00568573,  0.00637491,  0.00447967,  0.00654721,  0.00620262,\n",
       "          0.00585803,  0.00603032,  0.00568573,  0.00551344,  0.0068918 ],\n",
       "        [-0.00120606, -0.00017229, -0.00034459, -0.00103377, -0.00086147,\n",
       "         -0.00120606, -0.00068918, -0.00068918, -0.00120606,  0.        ]])}"
      ]
     },
     "execution_count": 26,
     "metadata": {},
     "output_type": "execute_result"
    }
   ],
   "source": [
    "perm_log=permutation_importance(logreg,X_test,y_test, n_repeats=10, random_state=2022)\n",
    "perm_log"
   ]
  },
  {
   "cell_type": "code",
   "execution_count": 27,
   "metadata": {},
   "outputs": [
    {
     "name": "stderr",
     "output_type": "stream",
     "text": [
      "/Users/litzysalazar/opt/anaconda3/envs/learn-env/lib/python3.8/site-packages/sklearn/linear_model/_logistic.py:762: ConvergenceWarning: lbfgs failed to converge (status=1):\n",
      "STOP: TOTAL NO. of ITERATIONS REACHED LIMIT.\n",
      "\n",
      "Increase the number of iterations (max_iter) or scale the data as shown in:\n",
      "    https://scikit-learn.org/stable/modules/preprocessing.html\n",
      "Please also refer to the documentation for alternative solver options:\n",
      "    https://scikit-learn.org/stable/modules/linear_model.html#logistic-regression\n",
      "  n_iter_i = _check_optimize_result(\n",
      "/Users/litzysalazar/opt/anaconda3/envs/learn-env/lib/python3.8/site-packages/sklearn/linear_model/_logistic.py:762: ConvergenceWarning: lbfgs failed to converge (status=1):\n",
      "STOP: TOTAL NO. of ITERATIONS REACHED LIMIT.\n",
      "\n",
      "Increase the number of iterations (max_iter) or scale the data as shown in:\n",
      "    https://scikit-learn.org/stable/modules/preprocessing.html\n",
      "Please also refer to the documentation for alternative solver options:\n",
      "    https://scikit-learn.org/stable/modules/linear_model.html#logistic-regression\n",
      "  n_iter_i = _check_optimize_result(\n",
      "/Users/litzysalazar/opt/anaconda3/envs/learn-env/lib/python3.8/site-packages/sklearn/linear_model/_logistic.py:762: ConvergenceWarning: lbfgs failed to converge (status=1):\n",
      "STOP: TOTAL NO. of ITERATIONS REACHED LIMIT.\n",
      "\n",
      "Increase the number of iterations (max_iter) or scale the data as shown in:\n",
      "    https://scikit-learn.org/stable/modules/preprocessing.html\n",
      "Please also refer to the documentation for alternative solver options:\n",
      "    https://scikit-learn.org/stable/modules/linear_model.html#logistic-regression\n",
      "  n_iter_i = _check_optimize_result(\n"
     ]
    }
   ],
   "source": [
    "from sklearn.metrics import precision_recall_curve\n",
    "from sklearn.model_selection import cross_val_predict\n",
    "\n",
    "y_scores = cross_val_predict(logreg, X_train, y_train, cv=3,\n",
    "                             method=\"decision_function\")\n",
    "\n",
    "precisions, recalls, thresholds = precision_recall_curve(y_train, y_scores)"
   ]
  },
  {
   "cell_type": "code",
   "execution_count": 28,
   "metadata": {},
   "outputs": [
    {
     "data": {
      "text/plain": [
       "<sklearn.metrics._plot.confusion_matrix.ConfusionMatrixDisplay at 0x7ffa6c727220>"
      ]
     },
     "execution_count": 28,
     "metadata": {},
     "output_type": "execute_result"
    },
    {
     "data": {
      "image/png": "[encoded data removed]",
      "text/plain": [
       "<Figure size 432x288 with 2 Axes>"
      ]
     },
     "metadata": {
      "needs_background": "light"
     },
     "output_type": "display_data"
    }
   ],
   "source": [
    "from sklearn.metrics import plot_confusion_matrix\n",
    "from imblearn.over_sampling import SMOTE\n",
    "plot_confusion_matrix(logreg, X_train, y_train)"
   ]
  },
  {
   "cell_type": "code",
   "execution_count": 29,
   "metadata": {},
   "outputs": [],
   "source": [
    "sm = SMOTE(random_state=2021)"
   ]
  },
  {
   "cell_type": "code",
   "execution_count": 30,
   "metadata": {},
   "outputs": [
    {
     "data": {
      "text/plain": [
       "MinMaxScaler()"
      ]
     },
     "execution_count": 30,
     "metadata": {},
     "output_type": "execute_result"
    }
   ],
   "source": [
    "scaler=MinMaxScaler()\n",
    "scaler.fit(X_train)"
   ]
  },
  {
   "cell_type": "code",
   "execution_count": 31,
   "metadata": {},
   "outputs": [],
   "source": [
    "X_train_sc=scaler.transform(X_train)"
   ]
  },
  {
   "cell_type": "code",
   "execution_count": 32,
   "metadata": {},
   "outputs": [],
   "source": [
    "X_train_res, y_train_res = sm.fit_resample(X_train_sc, y_train)"
   ]
  },
  {
   "cell_type": "code",
   "execution_count": 33,
   "metadata": {},
   "outputs": [],
   "source": [
    "\n",
    "logreg2 = LogisticRegression(penalty='l1', solver='liblinear')"
   ]
  },
  {
   "cell_type": "code",
   "execution_count": 34,
   "metadata": {},
   "outputs": [
    {
     "data": {
      "text/plain": [
       "LogisticRegression(penalty='l1', solver='liblinear')"
      ]
     },
     "execution_count": 34,
     "metadata": {},
     "output_type": "execute_result"
    }
   ],
   "source": [
    "logreg2.fit(X_train, y_train)\n"
   ]
  },
  {
   "cell_type": "code",
   "execution_count": 35,
   "metadata": {},
   "outputs": [
    {
     "name": "stdout",
     "output_type": "stream",
     "text": [
      "Training accuracy:  0.7312274174507208\n",
      "Validation accuracy:  0.7379408188082691\n"
     ]
    }
   ],
   "source": [
    "logreg2 = modeling_function(logreg2, X_train, y_train, X_val, y_val)\n"
   ]
  },
  {
   "cell_type": "code",
   "execution_count": 36,
   "metadata": {},
   "outputs": [],
   "source": [
    "logreg2_coefs = pd.DataFrame(np.abs(logreg2.coef_.T), columns=['coefficient'], index=X_train.columns)\n"
   ]
  },
  {
   "cell_type": "code",
   "execution_count": 37,
   "metadata": {},
   "outputs": [],
   "source": [
    "sorted2_coefs = logreg2_coefs.sort_values(by='coefficient', ascending=False)\n"
   ]
  },
  {
   "cell_type": "code",
   "execution_count": 38,
   "metadata": {},
   "outputs": [
    {
     "name": "stdout",
     "output_type": "stream",
     "text": [
      "Accuracy of random forest classifier: 0.70\n"
     ]
    }
   ],
   "source": [
    "forest = RandomForestClassifier(max_depth=2, random_state=101)\n",
    "forest.fit(X_train, y_train)\n",
    "\n",
    "\n",
    "y_forest_pred = forest.predict(X_test)\n",
    "\n",
    "print('Accuracy of random forest classifier: {:.2f}'.format(forest.score(X_test, y_test)))"
   ]
  },
  {
   "cell_type": "code",
   "execution_count": 39,
   "metadata": {},
   "outputs": [
    {
     "data": {
      "image/png": "[encoded data removed]",
      "text/plain": [
       "<Figure size 720x288 with 1 Axes>"
      ]
     },
     "metadata": {
      "needs_background": "light"
     },
     "output_type": "display_data"
    }
   ],
   "source": [
    "importances = pd.DataFrame({'Feature': X_train.columns,\n",
    "                            'Importance': forest.feature_importances_}).set_index('Feature').sort_values('Importance',ascending=False)\n",
    "\n",
    "# plot the importances\n",
    "importances = importances.plot(kind='bar', figsize=(10,4))\n",
    "importances = importances.set_title(\"Feature Importance\")\n",
    "plt.show()"
   ]
  },
  {
   "cell_type": "code",
   "execution_count": 40,
   "metadata": {},
   "outputs": [],
   "source": [
    "from sklearn.model_selection import GridSearchCV\n",
    "param_grid1 = {'n_estimators': [50, 75, 100],\n",
    "                'max_depth': [1, 3, 5, 7, 10],\n",
    "                'min_samples_leaf': [1, 3, 5, 7]}"
   ]
  },
  {
   "cell_type": "code",
   "execution_count": 54,
   "metadata": {},
   "outputs": [],
   "source": [
    "rf_gs = GridSearchCV(estimator=forest, param_grid=param_grid1, scoring='accuracy')\n"
   ]
  },
  {
   "cell_type": "code",
   "execution_count": 55,
   "metadata": {},
   "outputs": [
    {
     "data": {
      "text/plain": [
       "GridSearchCV(estimator=RandomForestClassifier(max_depth=2, random_state=101),\n",
       "             param_grid={'max_depth': [1, 3, 5, 7, 10],\n",
       "                         'min_samples_leaf': [1, 3, 5, 7],\n",
       "                         'n_estimators': [50, 75, 100]},\n",
       "             scoring='accuracy')"
      ]
     },
     "execution_count": 55,
     "metadata": {},
     "output_type": "execute_result"
    }
   ],
   "source": [
    "rf_gs.fit(X_train, y_train)\n"
   ]
  },
  {
   "cell_type": "code",
   "execution_count": 43,
   "metadata": {},
   "outputs": [],
   "source": [
    "forest_model = rf_gs.best_estimator_\n"
   ]
  },
  {
   "cell_type": "code",
   "execution_count": 44,
   "metadata": {},
   "outputs": [
    {
     "name": "stdout",
     "output_type": "stream",
     "text": [
      "Training accuracy:  0.7936536328837692\n",
      "Validation accuracy:  0.7813133360356709\n"
     ]
    },
    {
     "data": {
      "text/plain": [
       "RandomForestClassifier(max_depth=10, n_estimators=50, random_state=101)"
      ]
     },
     "execution_count": 44,
     "metadata": {},
     "output_type": "execute_result"
    }
   ],
   "source": [
    "modeling_function(forest_model, X_train, y_train, X_val, y_val)\n"
   ]
  },
  {
   "cell_type": "code",
   "execution_count": 45,
   "metadata": {},
   "outputs": [],
   "source": [
    "dt = DecisionTreeClassifier(random_state = 2022)\n"
   ]
  },
  {
   "cell_type": "code",
   "execution_count": 46,
   "metadata": {},
   "outputs": [
    {
     "name": "stdout",
     "output_type": "stream",
     "text": [
      "Training accuracy:  1.0\n",
      "Validation accuracy:  0.7805026347790839\n"
     ]
    }
   ],
   "source": [
    "dt = modeling_function(dt, X_train, y_train, X_val, y_val)\n"
   ]
  },
  {
   "cell_type": "code",
   "execution_count": 47,
   "metadata": {},
   "outputs": [
    {
     "data": {
      "text/plain": [
       "GridSearchCV(cv=3, estimator=DecisionTreeClassifier(random_state=2022),\n",
       "             param_grid={'criterion': ['gini', 'entropy'],\n",
       "                         'max_depth': array([ 3,  4,  5,  6,  7,  8,  9, 10, 11, 12, 13, 14])})"
      ]
     },
     "execution_count": 47,
     "metadata": {},
     "output_type": "execute_result"
    }
   ],
   "source": [
    "\n",
    "param_grid2 = { 'criterion':['gini','entropy'],'max_depth': np.arange(3, 15)}\n",
    "\n",
    "dtree_gscv = GridSearchCV(dt, param_grid2, cv=3)\n",
    "    \n",
    "dtree_gscv.fit(X_train, y_train)\n"
   ]
  },
  {
   "cell_type": "code",
   "execution_count": 48,
   "metadata": {},
   "outputs": [
    {
     "data": {
      "text/plain": [
       "DecisionTreeClassifier(max_depth=14, random_state=2022)"
      ]
     },
     "execution_count": 48,
     "metadata": {},
     "output_type": "execute_result"
    }
   ],
   "source": [
    "dtree_gscv.best_estimator_"
   ]
  },
  {
   "cell_type": "code",
   "execution_count": 49,
   "metadata": {},
   "outputs": [
    {
     "name": "stdout",
     "output_type": "stream",
     "text": [
      "Training accuracy:  0.832146817872858\n",
      "Validation accuracy:  0.7800972841507904\n"
     ]
    },
    {
     "data": {
      "text/plain": [
       "GridSearchCV(cv=3, estimator=DecisionTreeClassifier(random_state=2022),\n",
       "             param_grid={'criterion': ['gini', 'entropy'],\n",
       "                         'max_depth': array([ 3,  4,  5,  6,  7,  8,  9, 10, 11, 12, 13, 14])})"
      ]
     },
     "execution_count": 49,
     "metadata": {},
     "output_type": "execute_result"
    }
   ],
   "source": [
    "modeling_function(dtree_gscv, X_train, y_train, X_val, y_val)"
   ]
  },
  {
   "cell_type": "code",
   "execution_count": 50,
   "metadata": {},
   "outputs": [],
   "source": [
    "final_model = dtree_gscv"
   ]
  },
  {
   "cell_type": "code",
   "execution_count": 51,
   "metadata": {},
   "outputs": [],
   "source": [
    "y_pred = final_model.predict(X_test)\n"
   ]
  },
  {
   "cell_type": "code",
   "execution_count": 52,
   "metadata": {},
   "outputs": [
    {
     "name": "stdout",
     "output_type": "stream",
     "text": [
      "----------------------------------------\n",
      "Accuracy Score:\n",
      "0.7851481736733288\n",
      "----------------------------------------\n",
      "Recall Score:\n",
      "0.7048665620094191\n",
      "----------------------------------------\n",
      "Confusion Matrix:\n",
      "[[2761  495]\n",
      " [ 752 1796]]\n",
      "----------------------------------------\n",
      "Classification Matrix:\n",
      "              precision    recall  f1-score   support\n",
      "\n",
      "           0       0.79      0.85      0.82      3256\n",
      "           1       0.78      0.70      0.74      2548\n",
      "\n",
      "    accuracy                           0.79      5804\n",
      "   macro avg       0.78      0.78      0.78      5804\n",
      "weighted avg       0.79      0.79      0.78      5804\n",
      "\n"
     ]
    }
   ],
   "source": [
    "print('-'*40)\n",
    "print('Accuracy Score:')\n",
    "print(accuracy_score(y_test, y_pred))\n",
    "\n",
    "print('-'*40)\n",
    "print('Recall Score:')\n",
    "print(recall_score(y_test, y_pred))\n",
    "\n",
    "print('-'*40)\n",
    "print('Confusion Matrix:')\n",
    "print(confusion_matrix(y_test, y_pred))\n",
    "\n",
    "print('-'*40)\n",
    "print('Classification Matrix:')\n",
    "print(classification_report(y_test, y_pred))"
   ]
  },
  {
   "cell_type": "code",
   "execution_count": 53,
   "metadata": {},
   "outputs": [
    {
     "data": {
      "image/png": "[encoded data removed]",
      "text/plain": [
       "<Figure size 432x288 with 2 Axes>"
      ]
     },
     "metadata": {
      "needs_background": "light"
     },
     "output_type": "display_data"
    }
   ],
   "source": [
    "plot_confusion_matrix(dtree_gscv, X_train, y_train, display_labels=['False', 'True']);"
   ]
  },
  {
   "cell_type": "code",
   "execution_count": null,
   "metadata": {},
   "outputs": [],
   "source": []
  },
  {
   "cell_type": "code",
   "execution_count": null,
   "metadata": {},
   "outputs": [],
   "source": []
  },
  {
   "cell_type": "code",
   "execution_count": null,
   "metadata": {},
   "outputs": [],
   "source": []
  },
  {
   "cell_type": "code",
   "execution_count": null,
   "metadata": {},
   "outputs": [],
   "source": []
  },
  {
   "cell_type": "code",
   "execution_count": null,
   "metadata": {},
   "outputs": [],
   "source": []
  },
  {
   "cell_type": "code",
   "execution_count": null,
   "metadata": {},
   "outputs": [],
   "source": []
  }
 ],
 "metadata": {
  "kernelspec": {
   "display_name": "Python (learn-env)",
   "language": "python",
   "name": "learn-env"
  },
  "language_info": {
   "codemirror_mode": {
    "name": "ipython",
    "version": 3
   },
   "file_extension": ".py",
   "mimetype": "text/x-python",
   "name": "python",
   "nbconvert_exporter": "python",
   "pygments_lexer": "ipython3",
   "version": "3.8.5"
  }
 },
 "nbformat": 4,
 "nbformat_minor": 4
}
